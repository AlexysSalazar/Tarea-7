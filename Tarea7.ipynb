{
  "nbformat": 4,
  "nbformat_minor": 0,
  "metadata": {
    "colab": {
      "name": "Tarea7.ipynb",
      "provenance": []
    },
    "kernelspec": {
      "name": "python3",
      "display_name": "Python 3"
    },
    "language_info": {
      "name": "python"
    }
  },
  "cells": [
    {
      "cell_type": "markdown",
      "source": [
        "#Problema 3.1"
      ],
      "metadata": {
        "id": "9QgrdWxMHCWV"
      }
    },
    {
      "cell_type": "code",
      "source": [
        "SUMPAR=0\n",
        "SUMIMP=0\n",
        "CUEPAR=0\n",
        "i=1\n",
        "while i<=270:\n",
        "    NUM=i\n",
        "    if NUM!=0:\n",
        "        if ((-1)**NUM)>0:\n",
        "            SUMPAR=SUMPAR+NUM\n",
        "            CUEPAR=CUEPAR+1\n",
        "        else:\n",
        "            SUMIMP=SUMIMP+NUM\n",
        "    i=i+1\n",
        "PROPAR=SUMPAR/CUEPAR\n",
        "print(f\"La suma de los números impares es {SUMIMP}\")\n",
        "print(f\"El promedio de los números pares es {PROPAR}\")"
      ],
      "metadata": {
        "id": "ScdQSOV4HCWV"
      },
      "execution_count": null,
      "outputs": []
    },
    {
      "cell_type": "markdown",
      "source": [
        "#Problema 3.2"
      ],
      "metadata": {
        "id": "ey0HmZt1HDBD"
      }
    },
    {
      "cell_type": "code",
      "source": [
        "BAND='T'\n",
        "SUMSER=0\n",
        "i=2\n",
        "while i<=1800:\n",
        "    SUMSER=SUMSER+i\n",
        "    print(i)\n",
        "    if BAND=='T':\n",
        "        BAND='F'\n",
        "        i=i+3\n",
        "    else:\n",
        "        BAND='T'\n",
        "        i=i+2\n",
        "print(f\"La suma de la serie es: {SUMSER}\")"
      ],
      "metadata": {
        "id": "E6BOL7WkHDBE"
      },
      "execution_count": null,
      "outputs": []
    },
    {
      "cell_type": "markdown",
      "source": [
        "#Problema 3.3"
      ],
      "metadata": {
        "id": "4KEkXmnyG9oI"
      }
    },
    {
      "cell_type": "code",
      "execution_count": null,
      "metadata": {
        "id": "bb4YnLIlG37t"
      },
      "outputs": [],
      "source": [
        "serie=0\n",
        "band='T'\n",
        "i=1\n",
        "n=int(input(\"Dame un número entero: \"))\n",
        "\n",
        "while i<=n:\n",
        "    if band=='T':\n",
        "        serie=serie-1/i\n",
        "        band='F'\n",
        "    else:\n",
        "        serie=serie-1/i\n",
        "    i=i+1\n",
        "print(f\"La serie es : {serie}\")"
      ]
    },
    {
      "cell_type": "markdown",
      "source": [
        "#Problema 3.4"
      ],
      "metadata": {
        "id": "w8yxm5olG99E"
      }
    },
    {
      "cell_type": "code",
      "source": [
        "nom=0\n",
        "sue=float(input(\"Escribe tu sueldo: \"))\n",
        "\n",
        "while sue!=-1:\n",
        "    if sue<1000:\n",
        "        nsue=round(sue*1.15,2)\n",
        "    else:\n",
        "        nsue=round(sue*1.12,2)\n",
        "    nom=nom+nsue\n",
        "    print(f\"Tu sueldo es: {nsue}\")\n",
        "    sue=float(input(\"Escribe tu sueldo: \"))\n",
        "print(f\"El totalt de la nómina es: {nom}\")"
      ],
      "metadata": {
        "id": "v6EyAQbrG-kv"
      },
      "execution_count": null,
      "outputs": []
    }
  ]
}